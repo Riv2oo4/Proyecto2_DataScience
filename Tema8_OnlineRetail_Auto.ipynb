{
 "cells": [
  {
   "cell_type": "markdown",
   "id": "80b8d485",
   "metadata": {},
   "source": [
    "\n",
    "# Tema 8 – Predicción de compradores recurrentes (Online Retail – *Auto*)\n",
    "**Curso:** CC3084 – Data Science (Sem II 2025)  \n",
    "**Equipo:** _Mauricio Lemus - 22461, Alexis Mesias - 22562, Hugo Rivas - 22500_  \n",
    "**Repositorio GitHub:** _[https://github.com/Riv2oo4/Proyecto2_DataScience.git]_  \n"
   ]
  },
  {
   "cell_type": "markdown",
   "id": "f75bfa93",
   "metadata": {},
   "source": [
    "## 0) Preparación del entorno "
   ]
  },
  {
   "cell_type": "code",
   "execution_count": null,
   "id": "24ce3214",
   "metadata": {},
   "outputs": [
    {
     "name": "stdout",
     "output_type": "stream",
     "text": [
      "Entorno Colab: False\n",
      "kaggle.json presente: False\n"
     ]
    }
   ],
   "source": [
    "\n",
    "import os, sys, io, warnings, numpy as np, pandas as pd, matplotlib.pyplot as plt\n",
    "pd.set_option(\"display.max_columns\", 120)\n",
    "warnings.filterwarnings(\"ignore\")\n",
    "\n",
    "def in_colab():\n",
    "    try:\n",
    "        import google.colab  \n",
    "        return True\n",
    "    except Exception:\n",
    "        return False\n",
    "\n",
    "def kaggle_token_present():\n",
    "    return os.path.exists(os.path.expanduser(\"~/.kaggle/kaggle.json\")) or os.path.exists(\"./kaggle.json\")\n",
    "\n",
    "print(\"Entorno Colab:\", in_colab())\n",
    "print(\"kaggle.json presente:\", kaggle_token_present())\n"
   ]
  },
  {
   "cell_type": "markdown",
   "id": "fd74481e",
   "metadata": {},
   "source": [
    "## 1) Descargar dataset Online Retail "
   ]
  },
  {
   "cell_type": "code",
   "execution_count": null,
   "id": "7cc096ed",
   "metadata": {},
   "outputs": [
    {
     "name": "stdout",
     "output_type": "stream",
     "text": [
      "DATA_PATH existe: False -> No encontrado\n"
     ]
    }
   ],
   "source": [
    "\n",
    "DATA_DIR = \"./data\"\n",
    "os.makedirs(DATA_DIR, exist_ok=True)\n",
    "DATA_PATH = os.path.join(DATA_DIR, \"Online Retail.xlsx\")\n",
    "\n",
    "def try_kaggle_download():\n",
    "    try:\n",
    "        import subprocess, shutil, json, os\n",
    "        if os.path.exists(\"./kaggle.json\"):\n",
    "            os.makedirs(os.path.expanduser(\"~/.kaggle\"), exist_ok=True)\n",
    "            shutil.copyfile(\"./kaggle.json\", os.path.expanduser(\"~/.kaggle/kaggle.json\"))\n",
    "            os.chmod(os.path.expanduser(\"~/.kaggle/kaggle.json\"), 0o600)\n",
    "\n",
    "        try:\n",
    "            import kaggle  \n",
    "        except Exception:\n",
    "            subprocess.run([sys.executable, \"-m\", \"pip\", \"install\", \"kaggle\", \"--quiet\"], check=True)\n",
    "\n",
    "        # Descargar y descomprimir\n",
    "        zip_path = os.path.join(DATA_DIR, \"onlineretail.zip\")\n",
    "        subprocess.run([\"kaggle\", \"datasets\", \"download\", \"-d\", \"vijayuv/onlineretail\", \"-p\", DATA_DIR, \"--force\"], check=True)\n",
    "        subprocess.run([\"unzip\", \"-o\", zip_path, \"-d\", DATA_DIR], check=True)\n",
    "        print(\"Descarga Kaggle completa.\")\n",
    "        return True\n",
    "    except Exception as e:\n",
    "        print(\"Kaggle no disponible o fallo descarga:\", e)\n",
    "        return False\n",
    "\n",
    "if not os.path.exists(DATA_PATH) and kaggle_token_present():\n",
    "    _ = try_kaggle_download()\n",
    "\n",
    "print(\"DATA_PATH existe:\", os.path.exists(DATA_PATH), \"->\", DATA_PATH if os.path.exists(DATA_PATH) else \"No encontrado\")\n"
   ]
  },
  {
   "cell_type": "markdown",
   "id": "f62cd880",
   "metadata": {},
   "source": [
    "## 2) Subir archivo manualmente "
   ]
  },
  {
   "cell_type": "code",
   "execution_count": 3,
   "id": "7e9b93f4",
   "metadata": {},
   "outputs": [
    {
     "name": "stdout",
     "output_type": "stream",
     "text": [
      "No estás en Colab. Puedes colocar el Excel en ./data con nombre 'Online Retail.xlsx'.\n"
     ]
    }
   ],
   "source": [
    "\n",
    "if not os.path.exists(DATA_PATH):\n",
    "    if in_colab():\n",
    "        try:\n",
    "            from google.colab import files  # type: ignore\n",
    "            print(\"Sube el archivo Excel del dataset (e.g., 'Online Retail.xlsx').\")\n",
    "            uploaded = files.upload()\n",
    "            # Guardar con nombre estándar si el usuario sube algo\n",
    "            for name, data in uploaded.items():\n",
    "                with open(DATA_PATH, \"wb\") as f:\n",
    "                    f.write(data)\n",
    "            print(\"Archivo guardado en:\", DATA_PATH)\n",
    "        except Exception as e:\n",
    "            print(\"Subida manual no disponible:\", e)\n",
    "    else:\n",
    "        print(\"No estás en Colab. Puedes colocar el Excel en ./data con nombre 'Online Retail.xlsx'.\")\n"
   ]
  },
  {
   "cell_type": "markdown",
   "id": "2c78816d",
   "metadata": {},
   "source": [
    "## 3) Cargar datos (o crear sintético si no hay archivo)"
   ]
  },
  {
   "cell_type": "code",
   "execution_count": null,
   "id": "8ecf9d47",
   "metadata": {},
   "outputs": [],
   "source": [
    "\n",
    "import pandas as pd, numpy as np\n",
    "\n",
    "df = None\n",
    "if os.path.exists(DATA_PATH):\n",
    "    try:\n",
    "        df = pd.read_excel(DATA_PATH)\n",
    "        print(\"Cargado Excel:\", DATA_PATH, \"->\", df.shape)\n",
    "    except Exception as e:\n",
    "        print(\"Error al leer Excel, se usará dataset sintético:\", e)\n",
    "\n",
    "if df is None:\n",
    "    # ---- Synthetic fallback (guaranteed to run) ----\n",
    "    print(\"Usando dataset sintético para ejecutar el flujo completo.\")\n",
    "    rng = np.random.default_rng(42)\n",
    "    n_customers = 1500\n",
    "    start = pd.Timestamp(\"2024-01-01\")\n",
    "    end = pd.Timestamp(\"2025-08-31\")\n",
    "    days = (end - start).days + 1\n",
    "\n",
    "    customers = pd.DataFrame({\n",
    "        \"CustomerID\": np.arange(1, n_customers+1),\n",
    "        \"Channel\": rng.choice([\"web\",\"app\",\"marketplace\"], size=n_customers, p=[0.5,0.4,0.1]),\n",
    "        \"Device\": rng.choice([\"mobile\",\"desktop\",\"tablet\"], size=n_customers, p=[0.6,0.35,0.05]),\n",
    "    })\n",
    "\n",
    "    orders_per_cust = rng.poisson(lam=1.6, size=n_customers) + (rng.random(n_customers) < 0.25)\n",
    "    orders_per_cust = orders_per_cust.astype(int)\n",
    "    orders_per_cust[orders_per_cust<1] = 1\n",
    "\n",
    "    rows = []\n",
    "    order_id = 1\n",
    "    for cid, k in zip(customers[\"CustomerID\"].values, orders_per_cust):\n",
    "        for _ in range(k):\n",
    "            d = start + pd.to_timedelta(rng.integers(0, days), unit=\"D\")\n",
    "            qty = int(max(1, rng.poisson(2)))\n",
    "            price = float(max(1.0, np.round(rng.gamma(shape=2.2, scale=5.0), 2)))\n",
    "            rows.append([str(order_id), str(cid), d, qty, price])\n",
    "            order_id += 1\n",
    "\n",
    "    df = pd.DataFrame(rows, columns=[\"InvoiceNo\",\"CustomerID\",\"InvoiceDate\",\"Quantity\",\"UnitPrice\"])\n",
    "    print(\"Sintético generado:\", df.shape)\n",
    "\n",
    "# Renombrar columnas a snake_case y crear 'amount'\n",
    "rename_map = {\n",
    "    \"InvoiceNo\": \"invoice_no\",\n",
    "    \"StockCode\": \"stock_code\",\n",
    "    \"Description\": \"description\",\n",
    "    \"Quantity\": \"quantity\",\n",
    "    \"InvoiceDate\": \"invoice_date\",\n",
    "    \"UnitPrice\": \"unit_price\",\n",
    "    \"CustomerID\": \"customer_id\",\n",
    "    \"Country\": \"country\",\n",
    "}\n",
    "df = df.rename(columns={k: v for k, v in rename_map.items() if k in df.columns})\n",
    "\n",
    "df[\"invoice_date\"] = pd.to_datetime(df[\"invoice_date\"], errors=\"coerce\")\n",
    "df[\"quantity\"] = pd.to_numeric(df[\"quantity\"], errors=\"coerce\")\n",
    "df[\"unit_price\"] = pd.to_numeric(df[\"unit_price\"], errors=\"coerce\")\n",
    "df[\"customer_id\"] = pd.to_numeric(df[\"customer_id\"], errors=\"coerce\")\n",
    "df[\"amount\"] = df.get(\"quantity\", 1) * df.get(\"unit_price\", 1.0)\n",
    "\n",
    "print(\"Preview:\")\n",
    "display(df.head(5))\n",
    "print(df.dtypes)\n"
   ]
  },
  {
   "cell_type": "markdown",
   "id": "357382ee",
   "metadata": {},
   "source": [
    "## 4) Chequeos iniciales"
   ]
  },
  {
   "cell_type": "code",
   "execution_count": null,
   "id": "0911f06d",
   "metadata": {},
   "outputs": [],
   "source": [
    "\n",
    "print(\"Nulos por columna:\")\n",
    "print(df.isna().sum())\n",
    "\n",
    "if \"invoice_date\" in df.columns:\n",
    "    print(\"\\nRango de fechas:\")\n",
    "    print(df[\"invoice_date\"].min(), \"->\", df[\"invoice_date\"].max())\n",
    "\n",
    "if \"amount\" in df.columns:\n",
    "    print(\"\\n'amount' describe:\")\n",
    "    print(df[\"amount\"].describe())\n"
   ]
  },
  {
   "cell_type": "markdown",
   "id": "e5e74a60",
   "metadata": {},
   "source": [
    "## 5) Limpieza básica y agregación por orden"
   ]
  },
  {
   "cell_type": "code",
   "execution_count": null,
   "id": "53139ba0",
   "metadata": {},
   "outputs": [],
   "source": [
    "\n",
    "data = df.copy()\n",
    "\n",
    "# Filtrar notas de crédito si existen (InvoiceNo que empieza con 'C')\n",
    "if \"invoice_no\" in data.columns:\n",
    "    mask_credit = data[\"invoice_no\"].astype(str).str.startswith(\"C\", na=False)\n",
    "    data = data[~mask_credit].copy()\n",
    "\n",
    "# Filtrar cantidades y precios válidos\n",
    "for col in [\"quantity\",\"unit_price\",\"customer_id\",\"invoice_date\"]:\n",
    "    if col in data.columns:\n",
    "        pass\n",
    "data = data[(data.get(\"quantity\", 1) > 0) & (data.get(\"unit_price\", 1.0) > 0)]\n",
    "data = data.dropna(subset=[\"customer_id\",\"invoice_date\"])\n",
    "\n",
    "# Definir order_id y agrupar\n",
    "data[\"order_id\"] = data.get(\"invoice_no\", data.index.astype(str))\n",
    "orders = (\n",
    "    data.groupby([\"order_id\", \"customer_id\", \"invoice_date\"], as_index=False)\n",
    "        .agg(amount=(\"amount\",\"sum\"))\n",
    ")\n",
    "print(\"Órdenes únicas:\", len(orders))\n",
    "display(orders.head(5))\n"
   ]
  }
 ],
 "metadata": {
  "kernelspec": {
   "display_name": "Python 3",
   "language": "python",
   "name": "python3"
  },
  "language_info": {
   "codemirror_mode": {
    "name": "ipython",
    "version": 3
   },
   "file_extension": ".py",
   "mimetype": "text/x-python",
   "name": "python",
   "nbconvert_exporter": "python",
   "pygments_lexer": "ipython3",
   "version": "3.12.4"
  }
 },
 "nbformat": 4,
 "nbformat_minor": 5
}
