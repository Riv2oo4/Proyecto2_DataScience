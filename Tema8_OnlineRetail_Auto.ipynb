{
 "cells": [
  {
   "cell_type": "markdown",
   "id": "80b8d485",
   "metadata": {},
   "source": [
    "\n",
    "# Tema 8 – Predicción de compradores recurrentes (Online Retail – *Auto*)\n",
    "**Curso:** CC3084 – Data Science (Sem II 2025)  \n",
    "**Equipo:** _Mauricio Lemus - 22461, Alexis Mesias - 22562, Hugo Rivas - 22500_  \n",
    "**Repositorio GitHub:** _[https://github.com/Riv2oo4/Proyecto2_DataScience.git]_  \n"
   ]
  },
  {
   "cell_type": "markdown",
   "id": "f75bfa93",
   "metadata": {},
   "source": [
    "## 0) Preparación del entorno "
   ]
  },
  {
   "cell_type": "code",
   "execution_count": null,
   "id": "24ce3214",
   "metadata": {},
   "outputs": [
    {
     "name": "stdout",
     "output_type": "stream",
     "text": [
      "Entorno Colab: False\n",
      "kaggle.json presente: False\n"
     ]
    }
   ],
   "source": [
    "\n",
    "import os, sys, io, warnings, numpy as np, pandas as pd, matplotlib.pyplot as plt\n",
    "pd.set_option(\"display.max_columns\", 120)\n",
    "warnings.filterwarnings(\"ignore\")\n",
    "\n",
    "def in_colab():\n",
    "    try:\n",
    "        import google.colab  \n",
    "        return True\n",
    "    except Exception:\n",
    "        return False\n",
    "\n",
    "def kaggle_token_present():\n",
    "    return os.path.exists(os.path.expanduser(\"~/.kaggle/kaggle.json\")) or os.path.exists(\"./kaggle.json\")\n",
    "\n",
    "print(\"Entorno Colab:\", in_colab())\n",
    "print(\"kaggle.json presente:\", kaggle_token_present())\n"
   ]
  },
  {
   "cell_type": "markdown",
   "id": "fd74481e",
   "metadata": {},
   "source": [
    "## 1) Descargar dataset Online Retail "
   ]
  },
  {
   "cell_type": "code",
   "execution_count": null,
   "id": "7cc096ed",
   "metadata": {},
   "outputs": [
    {
     "name": "stdout",
     "output_type": "stream",
     "text": [
      "DATA_PATH existe: False -> No encontrado\n"
     ]
    }
   ],
   "source": [
    "\n",
    "DATA_DIR = \"./data\"\n",
    "os.makedirs(DATA_DIR, exist_ok=True)\n",
    "DATA_PATH = os.path.join(DATA_DIR, \"Online Retail.xlsx\")\n",
    "\n",
    "def try_kaggle_download():\n",
    "    try:\n",
    "        import subprocess, shutil, json, os\n",
    "        if os.path.exists(\"./kaggle.json\"):\n",
    "            os.makedirs(os.path.expanduser(\"~/.kaggle\"), exist_ok=True)\n",
    "            shutil.copyfile(\"./kaggle.json\", os.path.expanduser(\"~/.kaggle/kaggle.json\"))\n",
    "            os.chmod(os.path.expanduser(\"~/.kaggle/kaggle.json\"), 0o600)\n",
    "\n",
    "        try:\n",
    "            import kaggle  \n",
    "        except Exception:\n",
    "            subprocess.run([sys.executable, \"-m\", \"pip\", \"install\", \"kaggle\", \"--quiet\"], check=True)\n",
    "\n",
    "        # Descargar y descomprimir\n",
    "        zip_path = os.path.join(DATA_DIR, \"onlineretail.zip\")\n",
    "        subprocess.run([\"kaggle\", \"datasets\", \"download\", \"-d\", \"vijayuv/onlineretail\", \"-p\", DATA_DIR, \"--force\"], check=True)\n",
    "        subprocess.run([\"unzip\", \"-o\", zip_path, \"-d\", DATA_DIR], check=True)\n",
    "        print(\"Descarga Kaggle completa.\")\n",
    "        return True\n",
    "    except Exception as e:\n",
    "        print(\"Kaggle no disponible o fallo descarga:\", e)\n",
    "        return False\n",
    "\n",
    "if not os.path.exists(DATA_PATH) and kaggle_token_present():\n",
    "    _ = try_kaggle_download()\n",
    "\n",
    "print(\"DATA_PATH existe:\", os.path.exists(DATA_PATH), \"->\", DATA_PATH if os.path.exists(DATA_PATH) else \"No encontrado\")\n"
   ]
  },
  {
   "cell_type": "markdown",
   "id": "f62cd880",
   "metadata": {},
   "source": [
    "## 2) Subir archivo manualmente "
   ]
  },
  {
   "cell_type": "code",
   "execution_count": 3,
   "id": "7e9b93f4",
   "metadata": {},
   "outputs": [
    {
     "name": "stdout",
     "output_type": "stream",
     "text": [
      "No estás en Colab. Puedes colocar el Excel en ./data con nombre 'Online Retail.xlsx'.\n"
     ]
    }
   ],
   "source": [
    "\n",
    "if not os.path.exists(DATA_PATH):\n",
    "    if in_colab():\n",
    "        try:\n",
    "            from google.colab import files  # type: ignore\n",
    "            print(\"Sube el archivo Excel del dataset (e.g., 'Online Retail.xlsx').\")\n",
    "            uploaded = files.upload()\n",
    "            # Guardar con nombre estándar si el usuario sube algo\n",
    "            for name, data in uploaded.items():\n",
    "                with open(DATA_PATH, \"wb\") as f:\n",
    "                    f.write(data)\n",
    "            print(\"Archivo guardado en:\", DATA_PATH)\n",
    "        except Exception as e:\n",
    "            print(\"Subida manual no disponible:\", e)\n",
    "    else:\n",
    "        print(\"No estás en Colab. Puedes colocar el Excel en ./data con nombre 'Online Retail.xlsx'.\")\n"
   ]
  }
 ],
 "metadata": {
  "kernelspec": {
   "display_name": "Python 3",
   "language": "python",
   "name": "python3"
  },
  "language_info": {
   "codemirror_mode": {
    "name": "ipython",
    "version": 3
   },
   "file_extension": ".py",
   "mimetype": "text/x-python",
   "name": "python",
   "nbconvert_exporter": "python",
   "pygments_lexer": "ipython3",
   "version": "3.12.4"
  }
 },
 "nbformat": 4,
 "nbformat_minor": 5
}
